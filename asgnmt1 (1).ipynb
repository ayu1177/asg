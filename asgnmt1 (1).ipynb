{
  "nbformat": 4,
  "nbformat_minor": 0,
  "metadata": {
    "colab": {
      "provenance": []
    },
    "kernelspec": {
      "name": "python3",
      "display_name": "Python 3"
    },
    "language_info": {
      "name": "python"
    }
  },
  "cells": [
    {
      "cell_type": "markdown",
      "source": [
        "nfghdhf\n",
        "tfgujtf\n",
        "dg\n",
        "sdgsshfr\n",
        "jtjhtdjtjt\n",
        "jjtjtjrjuthsfjhfjindegkjnmrht\n",
        "hdhhjgthjtjtjht"
      ],
      "metadata": {
        "id": "gayXvW4JhNZR"
      }
    },
    {
      "cell_type": "markdown",
      "source": [],
      "metadata": {
        "id": "xzSeSQFekf2f"
      }
    },
    {
      "cell_type": "markdown",
      "source": [
        "fdhdfjdjtdgjt\n",
        "-hfhfxhjfdj\n",
        "dxdfhfdhfh\n",
        "fhyfyhyf"
      ],
      "metadata": {
        "id": "6UCgAaHrknpW"
      }
    },
    {
      "cell_type": "markdown",
      "source": [
        "k"
      ],
      "metadata": {
        "id": "ZSdX4Iv5hv8H"
      }
    },
    {
      "cell_type": "markdown",
      "source": [
        "vcncnhgcj\n",
        "hjgfchj\n",
        "\n",
        "1.   List item\n",
        "\n",
        "*   List item\n",
        "\n",
        "*   List item\n",
        "\n",
        "---\n",
        "\n",
        "# ***New Section***\n",
        "*   List item\n",
        "\n",
        "\n",
        "*   List item\n",
        "\n",
        "\n",
        "2.   List item\n",
        "\n"
      ],
      "metadata": {
        "id": "m57Z4tMbkq7m"
      }
    },
    {
      "cell_type": "markdown",
      "source": [
        "gjjjkhkkkkkhgk"
      ],
      "metadata": {
        "id": "fz2EP-AYhopf"
      }
    },
    {
      "cell_type": "markdown",
      "source": [
        "gjgjgfjfgjgfj"
      ],
      "metadata": {
        "id": "ZgMt5YULhsBx"
      }
    },
    {
      "cell_type": "markdown",
      "source": [],
      "metadata": {
        "id": "gfZ_b_qolBrH"
      }
    },
    {
      "cell_type": "markdown",
      "source": [],
      "metadata": {
        "id": "pdVApy8nlC6X"
      }
    },
    {
      "cell_type": "markdown",
      "source": [],
      "metadata": {
        "id": "snI8gtl6lDLn"
      }
    },
    {
      "cell_type": "markdown",
      "source": [
        "khkhgkl\n",
        "-khk\n",
        "iui\n",
        "- hjhj\n",
        "p;p;p\n",
        "-;mj;[[\n",
        "  ipkipkhkhk\n",
        "  - okhbjk ojo\n",
        "  pjkljl\n",
        "  - ki;j;\n",
        "  jljl"
      ],
      "metadata": {
        "id": "TNcBoKtIlHtn"
      }
    },
    {
      "cell_type": "markdown",
      "source": [
        ";l'l''"
      ],
      "metadata": {
        "id": "MCE0TK0AlV3u"
      }
    },
    {
      "cell_type": "markdown",
      "source": [
        "\n",
        "\n",
        "]p'[k'p"
      ],
      "metadata": {
        "id": "SreZiygHlWxo"
      }
    },
    {
      "cell_type": "code",
      "execution_count": null,
      "metadata": {
        "id": "yp2yNvOUhKam"
      },
      "outputs": [],
      "source": []
    }
  ]
}